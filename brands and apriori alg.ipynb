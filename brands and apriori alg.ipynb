{
 "cells": [
  {
   "cell_type": "code",
   "execution_count": 2,
   "id": "mighty-spelling",
   "metadata": {},
   "outputs": [
    {
     "name": "stdout",
     "output_type": "stream",
     "text": [
      "Доля строк с NaN 0.8369846338636194\n",
      "Количество значений NaN в каждом столбце\n",
      " ﻿id чека               0\n",
      "Дата и время           0\n",
      "ИНН                    0\n",
      "IDПользователя         0\n",
      "Товар                  0\n",
      "Бренд             178495\n",
      "Теги              128391\n",
      "Цена                  52\n",
      "Кол-во                52\n",
      "Сумма                 52\n",
      "Кэшбэк            253552\n",
      "dtype: int64\n"
     ]
    }
   ],
   "source": [
    "#shift+enter task\n",
    "import pandas as pd\n",
    "from efficient_apriori import apriori\n",
    "df = pd.read_csv('Case Data.csv', sep=\",\")\n",
    "#Case Data.csv is too big for github uploads, I'm sorry, I'll find a way\n",
    "print(\"Доля строк с NaN\", df[df.isna().sum(axis = 1)>0].shape[0]/df.shape[0])\n",
    "print(\"Количество значений NaN в каждом столбце\\n\", df.isna().sum(axis = 0))\n",
    "# Больше всего NaN-значений содержит столбцы Кэшбэк, Бренд и Теги"
   ]
  },
  {
   "cell_type": "code",
   "execution_count": 3,
   "id": "postal-faith",
   "metadata": {},
   "outputs": [],
   "source": [
    "df['Теги'].fillna(df['Товар'], inplace=True)\n",
    "records = list(map(tuple, [data for data in df.groupby(df[df.columns[0]])['Теги'].unique()]))"
   ]
  },
  {
   "cell_type": "code",
   "execution_count": 39,
   "id": "solar-wallace",
   "metadata": {},
   "outputs": [],
   "source": [
    "item, rules = apriori(records, min_support=0.002, min_confidence=0.2)"
   ]
  },
  {
   "cell_type": "code",
   "execution_count": 40,
   "id": "domestic-tucson",
   "metadata": {},
   "outputs": [
    {
     "name": "stdout",
     "output_type": "stream",
     "text": [
      "{пюре детское; детское питание} -> {детское питание; пюре детское} (conf: 0.560, supp: 0.006, lift: 52.401, conv: 2.247)\n",
      "{детское питание; пюре детское} -> {пюре детское; детское питание} (conf: 0.549, supp: 0.006, lift: 52.401, conv: 2.196)\n",
      "{овощи/фрукты/ягоды; томаты; продукты; овощи} -> {пакет-майка магнит} (conf: 0.488, supp: 0.003, lift: 8.283, conv: 1.839)\n",
      "{огурцы; овощи/фрукты/ягоды; продукты; овощи} -> {пакет-майка магнит} (conf: 0.295, supp: 0.003, lift: 4.999, conv: 1.334)\n",
      "{яйцо; продукты; молоко/сыр/яйца; куриное} -> {пакет-майка магнит} (conf: 0.492, supp: 0.003, lift: 8.354, conv: 1.854)\n",
      "{лимоны 1кг} -> {пакет-майка магнит} (conf: 0.551, supp: 0.003, lift: 9.340, conv: 2.094)\n",
      "{игрушка; прочее} -> {прочее; упаковка; пакеты} (conf: 0.456, supp: 0.002, lift: 13.736, conv: 1.777)\n",
      "{картофель; продукты; овощи/фрукты/ягоды; овощи} -> {пакет-майка магнит} (conf: 0.548, supp: 0.002, lift: 9.299, conv: 2.083)\n",
      "{бакалея; сахар; продукты} -> {пакет-майка магнит} (conf: 0.435, supp: 0.004, lift: 7.379, conv: 1.666)\n",
      "{продукты; мандарины; фрукты; овощи/фрукты/ягоды} -> {пакет-майка магнит} (conf: 0.477, supp: 0.005, lift: 8.087, conv: 1.798)\n",
      "{овощи/фрукты/ягоды; фрукты; банан; продукты} -> {пакеты; упаковка; прочее} (conf: 0.575, supp: 0.003, lift: 17.966, conv: 2.275)\n",
      "{личная гигиена; ежедневные; красота и здоровье; прокладки} -> {пакеты; упаковка; прочее} (conf: 0.412, supp: 0.003, lift: 12.892, conv: 1.647)\n",
      "{продукты; банан; фрукты; овощи/фрукты/ягоды} -> {пакет-майка магнит} (conf: 0.528, supp: 0.008, lift: 8.955, conv: 1.993)\n",
      "{продукты; мандарины; фрукты; овощи/фрукты/ягоды} -> {продукты; банан; фрукты; овощи/фрукты/ягоды} (conf: 0.297, supp: 0.003, lift: 19.300, conv: 1.400)\n",
      "{продукты; банан; фрукты; овощи/фрукты/ягоды} -> {продукты; мандарины; фрукты; овощи/фрукты/ягоды} (conf: 0.219, supp: 0.003, lift: 19.300, conv: 1.266)\n",
      "{яблоки новый урожай 1кг} -> {продукты; банан; фрукты; овощи/фрукты/ягоды} (conf: 0.343, supp: 0.002, lift: 22.337, conv: 1.499)\n",
      "{ultra; пятерочка; личная гигиена; 14; прокладки; duonight; красота и здоровье} -> {пакеты; упаковка; прочее} (conf: 0.315, supp: 0.002, lift: 9.864, conv: 1.414)\n",
      "{фрукты; овощи/фрукты/ягоды; продукты; банан} -> {прочее; упаковка; пакеты} (conf: 0.347, supp: 0.003, lift: 10.462, conv: 1.481)\n",
      "{лук репчатый 1кг} -> {пакет-майка магнит} (conf: 0.581, supp: 0.003, lift: 9.863, conv: 2.248)\n",
      "{яйцо; молоко/сыр/яйца; продукты; куриное} -> {пакет-майка магнит} (conf: 0.460, supp: 0.002, lift: 7.811, conv: 1.744)\n",
      "{яблоки новый урожай 1кг} -> {пакет-майка магнит} (conf: 0.517, supp: 0.003, lift: 8.764, conv: 1.947)\n",
      "{фрукты; мандарины; продукты; овощи/фрукты/ягоды} -> {пакеты; упаковка; прочее} (conf: 0.484, supp: 0.002, lift: 15.146, conv: 1.877)\n"
     ]
    }
   ],
   "source": [
    "for rule in rules:\n",
    "    print(rule)"
   ]
  },
  {
   "cell_type": "code",
   "execution_count": 35,
   "id": "breathing-ladder",
   "metadata": {},
   "outputs": [],
   "source": [
    "brands = ['Pampers', 'Ariel', 'Tide', 'Миф', 'Lenor', 'Always', 'Tampax', 'Naturella', 'Discreet', 'Braun', 'Gillette', 'Venus', 'Head & Shoulders', 'Pantene', 'Herbal Essences', 'Aussie', 'Bear Fruits', 'Fairy', 'Mr. Proper', 'Oral-B', 'Blend-a-Med', 'Clearblue', 'Old Spice', 'Safeguard']\n",
    "brand = []\n",
    "count = []"
   ]
  },
  {
   "cell_type": "code",
   "execution_count": 36,
   "id": "varying-infrastructure",
   "metadata": {},
   "outputs": [
    {
     "name": "stdout",
     "output_type": "stream",
     "text": [
      "Pampers: 3505\n",
      "Ariel: 2523\n",
      "Tide: 1960\n",
      "Миф: 265\n",
      "Lenor: 5207\n",
      "Always: 10737\n",
      "Tampax: 228\n",
      "Naturella: 2985\n",
      "Discreet: 6244\n",
      "Braun: 3\n",
      "Gillette: 5718\n",
      "Venus: 1122\n",
      "Head & Shoulders: 0\n",
      "Pantene: 3848\n",
      "Herbal Essences: 0\n",
      "Aussie: 356\n",
      "Bear Fruits: 0\n",
      "Fairy: 4266\n",
      "Mr. Proper: 1936\n",
      "Oral-B: 1106\n",
      "Blend-a-Med: 1764\n",
      "Clearblue: 64\n",
      "Old Spice: 2315\n",
      "Safeguard: 1014\n"
     ]
    },
    {
     "data": {
      "text/plain": [
       "<BarContainer object of 24 artists>"
      ]
     },
     "execution_count": 36,
     "metadata": {},
     "output_type": "execute_result"
    },
    {
     "data": {
      "image/png": "[encoded data removed]",
      "text/plain": [
       "<Figure size 432x288 with 1 Axes>"
      ]
     },
     "metadata": {
      "needs_background": "light"
     },
     "output_type": "display_data"
    }
   ],
   "source": [
    "def count_brand(dataset, brand_name):\n",
    "    found_rows = df['Бренд'].str.contains(brand_name.lower()).sum()\n",
    "    print(brand_name + \":\", \"%0.0f\" % found_rows)\n",
    "    return found_rows\n",
    "for b in brands:\n",
    "    brand.append(b)\n",
    "    count.append(count_brand(df, b))\n",
    "import matplotlib.pyplot as plt\n",
    "plt.barh(brand, count)"
   ]
  }
 ],
 "metadata": {
  "kernelspec": {
   "display_name": "Python 3",
   "language": "python",
   "name": "python3"
  },
  "language_info": {
   "codemirror_mode": {
    "name": "ipython",
    "version": 3
   },
   "file_extension": ".py",
   "mimetype": "text/x-python",
   "name": "python",
   "nbconvert_exporter": "python",
   "pygments_lexer": "ipython3",
   "version": "3.9.2"
  }
 },
 "nbformat": 4,
 "nbformat_minor": 5
}
